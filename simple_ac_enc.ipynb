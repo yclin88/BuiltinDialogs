{
  "nbformat": 4,
  "nbformat_minor": 0,
  "metadata": {
    "colab": {
      "provenance": [],
      "authorship_tag": "ABX9TyMrNkhDrlNtsoITTkGxsXpH",
      "include_colab_link": true
    },
    "kernelspec": {
      "name": "python3",
      "display_name": "Python 3"
    },
    "language_info": {
      "name": "python"
    }
  },
  "cells": [
    {
      "cell_type": "markdown",
      "metadata": {
        "id": "view-in-github",
        "colab_type": "text"
      },
      "source": [
        "<a href=\"https://colab.research.google.com/github/yclin88/BuiltinDialogs/blob/main/simple_ac_enc.ipynb\" target=\"_parent\"><img src=\"https://colab.research.google.com/assets/colab-badge.svg\" alt=\"Open In Colab\"/></a>"
      ]
    },
    {
      "cell_type": "code",
      "execution_count": 1,
      "metadata": {
        "colab": {
          "base_uri": "https://localhost:8080/"
        },
        "id": "8KN96U0E2QNK",
        "outputId": "7fb10b30-9380-402e-c507-1943f5b4ad38"
      },
      "outputs": [
        {
          "output_type": "stream",
          "name": "stdout",
          "text": [
            "Encoded Value: 0.7040000000000001\n",
            "Final Range: 0.1279999999999999\n"
          ]
        }
      ],
      "source": [
        "def simple_arithmetic_coding(text, prob_dict):\n",
        "    \"\"\"\n",
        "    Simple Arithmetic Coding Algorithm\n",
        "\n",
        "    Args:\n",
        "        text (str): The input text to encode.\n",
        "        prob_dict (dict): A dictionary where keys are characters and values are their probabilities.\n",
        "\n",
        "    Returns:\n",
        "        tuple: A tuple containing the encoded value (float) and the range (float).\n",
        "    \"\"\"\n",
        "    lower = 0.0\n",
        "    upper = 1.0\n",
        "\n",
        "    for char in text:\n",
        "        char_range = upper - lower\n",
        "        for key, prob in prob_dict.items():\n",
        "            if key == char:\n",
        "                upper = lower + char_range * sum(prob_dict[k] for k in prob_dict if list(prob_dict.keys()).index(k) <= list(prob_dict.keys()).index(key))\n",
        "                lower = lower + char_range * sum(prob_dict[k] for k in prob_dict if list(prob_dict.keys()).index(k) < list(prob_dict.keys()).index(key))\n",
        "                break\n",
        "\n",
        "    return (lower + upper) / 2, upper - lower\n",
        "\n",
        "# Example Usage\n",
        "text = \"ABA\"\n",
        "prob_dict = {'A': 0.8, 'B': 0.2}\n",
        "\n",
        "encoded_value, final_range = simple_arithmetic_coding(text, prob_dict)\n",
        "print(f\"Encoded Value: {encoded_value}\")\n",
        "print(f\"Final Range: {final_range}\")"
      ]
    }
  ]
}